{
 "cells": [
  {
   "cell_type": "code",
   "execution_count": 1,
   "metadata": {
    "collapsed": true
   },
   "outputs": [],
   "source": [
    "from utils.get_input import get_input\n",
    "\n",
    "# inp = Path(\"./test_input\").read_text()\n",
    "inp = get_input(1)\n"
   ]
  },
  {
   "cell_type": "code",
   "execution_count": 2,
   "outputs": [
    {
     "name": "stdout",
     "output_type": "stream",
     "text": [
      "Part 1 answer: 68923\n"
     ]
    }
   ],
   "source": [
    "# Part 1\n",
    "p1_res = max(list(map(lambda x: sum(map(int, x.split(\"\\n\"))), inp.split(\"\\n\\n\"))))\n",
    "print(f\"Part 1 answer: {p1_res}\")"
   ],
   "metadata": {
    "collapsed": false
   }
  },
  {
   "cell_type": "code",
   "execution_count": 3,
   "outputs": [
    {
     "name": "stdout",
     "output_type": "stream",
     "text": [
      "Part 2 answer: 200044\n"
     ]
    }
   ],
   "source": [
    "# Part 2\n",
    "p2_res = sum(sorted(list(map(lambda x: sum(map(int, x.split(\"\\n\"))), inp.split(\"\\n\\n\"))), reverse=True)[:3])\n",
    "print(f\"Part 2 answer: {p2_res}\")"
   ],
   "metadata": {
    "collapsed": false
   }
  }
 ],
 "metadata": {
  "kernelspec": {
   "display_name": "Python 3",
   "language": "python",
   "name": "python3"
  },
  "language_info": {
   "codemirror_mode": {
    "name": "ipython",
    "version": 2
   },
   "file_extension": ".py",
   "mimetype": "text/x-python",
   "name": "python",
   "nbconvert_exporter": "python",
   "pygments_lexer": "ipython2",
   "version": "2.7.6"
  }
 },
 "nbformat": 4,
 "nbformat_minor": 0
}
